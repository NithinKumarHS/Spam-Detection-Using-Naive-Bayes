{
 "cells": [
  {
   "cell_type": "code",
   "execution_count": null,
   "id": "14be17ff",
   "metadata": {},
   "outputs": [],
   "source": [
    "from flask import Flask, request, jsonify, render_template\n",
    "import pandas as pd\n",
    "import string\n",
    "from sklearn.feature_extraction.text import TfidfVectorizer\n",
    "from sklearn.naive_bayes import GaussianNB\n",
    "from sklearn.model_selection import train_test_split\n",
    "from sklearn.metrics import accuracy_score,classification_report\n",
    "import nltk\n",
    "from nltk.corpus import stopwords\n",
    "import threading\n",
    "import webbrowser\n",
    "\n",
    "#nltk.download('stopwords')             #one time download and comment out after that\n",
    "stop_words = set(stopwords.words('english'))\n"
   ]
  },
  {
   "cell_type": "code",
   "execution_count": null,
   "id": "7a5a4cf5",
   "metadata": {},
   "outputs": [
    {
     "name": "stderr",
     "output_type": "stream",
     "text": [
      "<>:2: SyntaxWarning: invalid escape sequence '\\S'\n",
      "<>:2: SyntaxWarning: invalid escape sequence '\\S'\n",
      "C:\\Users\\Admin\\AppData\\Local\\Temp\\ipykernel_30424\\4105646008.py:2: SyntaxWarning: invalid escape sequence '\\S'\n",
      "  df = pd.read_csv('D:\\Spam-Detection-Using-Naive-Bayes\\sms.tsv', sep='\\t', names=['label', 'message'])\n"
     ]
    }
   ],
   "source": [
    "df = pd.read_csv('D:\\Spam-Detection-Using-Naive-Bayes\\sms.tsv', sep='\\t', names=['label', 'message'])\n",
    "\n",
    "def preprocess(msg):\n",
    "    msg = msg.lower()\n",
    "    msg = ''.join([ch for ch in msg if ch not in string.punctuation])\n",
    "    words = msg.split()\n",
    "    words = [word for word in words if word not in stop_words]\n",
    "    return ' '.join(words)\n",
    "\n",
    "df['cleaned'] = df['message'].apply(preprocess)\n"
   ]
  },
  {
   "cell_type": "code",
   "execution_count": null,
   "id": "4b2b60dc",
   "metadata": {},
   "outputs": [
    {
     "name": "stdout",
     "output_type": "stream",
     "text": [
      "Model Accuracy: 89.89%\n",
      "              precision    recall  f1-score   support\n",
      "\n",
      "         ham       0.98      0.90      0.94      1448\n",
      "        spam       0.58      0.91      0.71       224\n",
      "\n",
      "    accuracy                           0.90      1672\n",
      "   macro avg       0.78      0.90      0.82      1672\n",
      "weighted avg       0.93      0.90      0.91      1672\n",
      "\n"
     ]
    }
   ],
   "source": [
    "vectorizer = TfidfVectorizer()\n",
    "X = vectorizer.fit_transform(df['cleaned']).toarray()\n",
    "y = df['label']\n",
    "\n",
    "X_train, X_test, y_train, y_test = train_test_split(X, y, test_size=0.3, random_state=42)\n",
    "\n",
    "model = GaussianNB()\n",
    "model.fit(X_train, y_train)\n",
    "\n",
    "y_pred = model.predict(X_test)\n",
    "accuracy = accuracy_score(y_test, y_pred)\n",
    "print(f\"Model Accuracy: {accuracy * 100:.2f}%\")\n",
    "print(classification_report(y_test, y_pred))\n"
   ]
  },
  {
   "cell_type": "code",
   "execution_count": null,
   "id": "eb58ac14",
   "metadata": {},
   "outputs": [],
   "source": [
    "app = Flask(__name__)\n",
    "\n",
    "@app.route(\"/\")\n",
    "def home():\n",
    "    return render_template(\"index.html\")\n",
    "\n",
    "@app.route(\"/predict\", methods=[\"POST\"])\n",
    "def predict():\n",
    "    data = request.get_json()\n",
    "    input_msg = data.get(\"message\", \"\")\n",
    "    \n",
    "    if not input_msg.strip():\n",
    "        return jsonify({\"error\": \"Message cannot be empty\"}), 400\n",
    "\n",
    "    cleaned_msg = preprocess(input_msg)\n",
    "    vectorized_msg = vectorizer.transform([cleaned_msg]).toarray()\n",
    "    prediction = model.predict(vectorized_msg)[0]\n",
    "\n",
    "    return jsonify({\n",
    "        \"prediction\": prediction,\n",
    "        \"accuracy\": f\"{accuracy * 100:.2f}%\"\n",
    "    })\n",
    "\n"
   ]
  },
  {
   "cell_type": "code",
   "execution_count": null,
   "id": "b10f26ce",
   "metadata": {},
   "outputs": [
    {
     "name": "stdout",
     "output_type": "stream",
     "text": [
      " * Serving Flask app '__main__'\n",
      " * Debug mode: off\n"
     ]
    },
    {
     "name": "stderr",
     "output_type": "stream",
     "text": [
      "WARNING: This is a development server. Do not use it in a production deployment. Use a production WSGI server instead.\n",
      " * Running on http://127.0.0.1:5000\n",
      "Press CTRL+C to quit\n",
      "127.0.0.1 - - [16/Jun/2025 17:27:18] \"GET / HTTP/1.1\" 200 -\n",
      "127.0.0.1 - - [16/Jun/2025 17:27:26] \"POST /predict HTTP/1.1\" 200 -\n"
     ]
    }
   ],
   "source": [
    "def run_flask():\n",
    "    app.run(port=5000)\n",
    "\n",
    "def open_browser():\n",
    "    webbrowser.open(\"http://127.0.0.1:5000\")\n",
    "\n",
    "threading.Timer(1, open_browser).start()\n",
    "run_flask()\n"
   ]
  }
 ],
 "metadata": {
  "kernelspec": {
   "display_name": "venv",
   "language": "python",
   "name": "python3"
  },
  "language_info": {
   "codemirror_mode": {
    "name": "ipython",
    "version": 3
   },
   "file_extension": ".py",
   "mimetype": "text/x-python",
   "name": "python",
   "nbconvert_exporter": "python",
   "pygments_lexer": "ipython3",
   "version": "3.13.4"
  }
 },
 "nbformat": 4,
 "nbformat_minor": 5
}
